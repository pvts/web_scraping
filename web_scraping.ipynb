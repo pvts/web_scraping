{
 "cells": [
  {
   "cell_type": "markdown",
   "metadata": {},
   "source": [
    "In this notebook we will explore the topic of web scraping using the **Selenium** library. Web scraping has many applications, but here we will use scripts to automate the process of downloading files from any website. Our aim is to show how to automate the process of dowloading csv files from any data source. In this example, we will download the csv file which contains the **Consumer price inflation** timeseries in the UK from 1989."
   ]
  },
  {
   "cell_type": "code",
   "execution_count": 1,
   "metadata": {},
   "outputs": [],
   "source": [
    "#importing the required libraries\n",
    "from selenium import webdriver\n",
    "from selenium.webdriver.common.keys import Keys\n",
    "import os\n",
    "import pandas as pd\n",
    "import time"
   ]
  },
  {
   "cell_type": "markdown",
   "metadata": {},
   "source": [
    "First and foremost, we need to set the path where the relevant exe file is stored. Make sure to change it to the directory you've saved your own file. For this example we will use the **Firefox** browser, however Selenium supports other browsers as well (e.g. Chrome). In order to navigate through the webpage, a basic understanding of html is necessary. <br>\n",
    "\n",
    "To inspect the elements of a webpage, right-click on the page once it's loaded and then click **Inspect**. We then need to locate the relevant element which we could use. For illustration purposes, one example can be found below. We want to find and then click on the search bar by using a unique element. There are many options at hand, such as locating the element by class, name etc. One way we could do that is finding the **id** (circled in the pic) in the page. In the script below we use other ways of locating elements as well."
   ]
  },
  {
   "cell_type": "markdown",
   "metadata": {},
   "source": [
    "<img src=\"img/example.jpg\" width=\"1080\" height=\"960\" />"
   ]
  },
  {
   "cell_type": "code",
   "execution_count": 2,
   "metadata": {},
   "outputs": [],
   "source": [
    "#Setting the relevant paths\n",
    "path = 'C:\\Program Files (x86)\\geckodriver.exe'\n",
    "link_1 = 'https://www.ons.gov.uk/'\n",
    "href_1 = '/economy/inflationandpriceindices/timeseries/l55o/mm23'\n",
    "href_2 = '/generator?format=csv&uri=/economy/inflationandpriceindices/timeseries/l55o/mm23'\n",
    "element_id = 'nav-search'\n",
    "element_class = 'box__clickable'\n",
    "keyword = 'Inflation price'\n",
    "\n",
    "#using the Mozilla Firefox browser\n",
    "driver = webdriver.Firefox(executable_path=path)\n",
    "driver.implicitly_wait(0.5)\n",
    "driver.get(link_1)\n",
    "\n",
    "#find link text and click on the element\n",
    "element_1 = driver.find_element_by_id(element_id)\n",
    "element_1.click()\n",
    "#keyword to be entered in the search box\n",
    "element_1.send_keys(keyword)\n",
    "#wait for one second and then search the keyword\n",
    "time.sleep(1)\n",
    "element_1.send_keys(Keys.RETURN)\n",
    "#wait 2 seconds for the search to be completed\n",
    "time.sleep(2)\n",
    "#click on all the relevant elements until we reach the file we are looking for\n",
    "element_2 = driver.find_element_by_class_name(element_class)\n",
    "element_2.click()\n",
    "time.sleep(2)\n",
    "#we are using the xpath since we want to locate the element by href\n",
    "element_3 = driver.find_element_by_xpath('//a[@href=\"'+href_1+'\"]')\n",
    "element_3.click()\n",
    "time.sleep(2)\n",
    "element_4 = driver.find_element_by_xpath('//a[@href=\"'+href_2+'\"]')\n",
    "element_4.click()\n",
    "#wait as before\n",
    "time.sleep(2)\n",
    "#closing the browser\n",
    "driver.quit()"
   ]
  },
  {
   "cell_type": "markdown",
   "metadata": {},
   "source": [
    "If everything worked as expected, we should have successfully downloaded the file. We can then use a simple function to check if the file exists and if so we can open it."
   ]
  },
  {
   "cell_type": "code",
   "execution_count": 3,
   "metadata": {},
   "outputs": [],
   "source": [
    "#function to check whether the file exists or not\n",
    "def open_file(file):\n",
    "    if os.path.isfile(file) == True:\n",
    "        return pd.read_csv(file, skiprows=7)\n",
    "    else:\n",
    "        print('File does not exist')"
   ]
  },
  {
   "cell_type": "markdown",
   "metadata": {},
   "source": [
    "Lastly, let's have a look at the first few rows of the dataset."
   ]
  },
  {
   "cell_type": "code",
   "execution_count": 4,
   "metadata": {},
   "outputs": [
    {
     "data": {
      "text/html": [
       "<div>\n",
       "<style scoped>\n",
       "    .dataframe tbody tr th:only-of-type {\n",
       "        vertical-align: middle;\n",
       "    }\n",
       "\n",
       "    .dataframe tbody tr th {\n",
       "        vertical-align: top;\n",
       "    }\n",
       "\n",
       "    .dataframe thead th {\n",
       "        text-align: right;\n",
       "    }\n",
       "</style>\n",
       "<table border=\"1\" class=\"dataframe\">\n",
       "  <thead>\n",
       "    <tr style=\"text-align: right;\">\n",
       "      <th></th>\n",
       "      <th>Important notes</th>\n",
       "      <th>Unnamed: 1</th>\n",
       "    </tr>\n",
       "  </thead>\n",
       "  <tbody>\n",
       "    <tr>\n",
       "      <th>0</th>\n",
       "      <td>1989</td>\n",
       "      <td>5.7</td>\n",
       "    </tr>\n",
       "    <tr>\n",
       "      <th>1</th>\n",
       "      <td>1990</td>\n",
       "      <td>8.0</td>\n",
       "    </tr>\n",
       "    <tr>\n",
       "      <th>2</th>\n",
       "      <td>1991</td>\n",
       "      <td>7.5</td>\n",
       "    </tr>\n",
       "    <tr>\n",
       "      <th>3</th>\n",
       "      <td>1992</td>\n",
       "      <td>4.6</td>\n",
       "    </tr>\n",
       "    <tr>\n",
       "      <th>4</th>\n",
       "      <td>1993</td>\n",
       "      <td>2.6</td>\n",
       "    </tr>\n",
       "  </tbody>\n",
       "</table>\n",
       "</div>"
      ],
      "text/plain": [
       "  Important notes  Unnamed: 1\n",
       "0            1989         5.7\n",
       "1            1990         8.0\n",
       "2            1991         7.5\n",
       "3            1992         4.6\n",
       "4            1993         2.6"
      ]
     },
     "execution_count": 4,
     "metadata": {},
     "output_type": "execute_result"
    }
   ],
   "source": [
    "df = open_file(r'C:\\Users\\Geo\\Downloads\\series-070721.csv')\n",
    "df.head()"
   ]
  }
 ],
 "metadata": {
  "kernelspec": {
   "display_name": "Python 3",
   "language": "python",
   "name": "python3"
  },
  "language_info": {
   "codemirror_mode": {
    "name": "ipython",
    "version": 3
   },
   "file_extension": ".py",
   "mimetype": "text/x-python",
   "name": "python",
   "nbconvert_exporter": "python",
   "pygments_lexer": "ipython3",
   "version": "3.7.10"
  },
  "toc": {
   "base_numbering": 1,
   "nav_menu": {},
   "number_sections": true,
   "sideBar": true,
   "skip_h1_title": false,
   "title_cell": "Table of Contents",
   "title_sidebar": "Contents",
   "toc_cell": false,
   "toc_position": {},
   "toc_section_display": true,
   "toc_window_display": false
  }
 },
 "nbformat": 4,
 "nbformat_minor": 4
}
